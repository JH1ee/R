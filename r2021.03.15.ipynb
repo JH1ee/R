{
 "cells": [
  {
   "cell_type": "code",
   "execution_count": 1,
   "id": "remarkable-domestic",
   "metadata": {},
   "outputs": [
    {
     "name": "stdout",
     "output_type": "stream",
     "text": [
      "[1] 1\n",
      "[1] 2\n",
      "[1] 3\n",
      "[1] 4\n",
      "[1] 5\n"
     ]
    }
   ],
   "source": [
    "i <- 1\n",
    "repeat {\n",
    "    print(i)\n",
    "    if (i >=5){\n",
    "        break\n",
    "    }\n",
    "    i <- i +1\n",
    "}"
   ]
  },
  {
   "cell_type": "code",
   "execution_count": 3,
   "id": "united-earthquake",
   "metadata": {},
   "outputs": [
    {
     "name": "stdout",
     "output_type": "stream",
     "text": [
      "package 'dplyr' successfully unpacked and MD5 sums checked\n",
      "\n",
      "The downloaded binary packages are in\n",
      "\tC:\\Users\\lee\\AppData\\Local\\Temp\\Rtmp2TrNpn\\downloaded_packages\n"
     ]
    }
   ],
   "source": [
    "install.packages(\"dplyr\")"
   ]
  },
  {
   "cell_type": "code",
   "execution_count": 4,
   "id": "different-disney",
   "metadata": {},
   "outputs": [
    {
     "name": "stderr",
     "output_type": "stream",
     "text": [
      "Warning message:\n",
      "\"package 'dplyr' was built under R version 3.6.3\"\n",
      "Attaching package: 'dplyr'\n",
      "\n",
      "The following objects are masked from 'package:stats':\n",
      "\n",
      "    filter, lag\n",
      "\n",
      "The following objects are masked from 'package:base':\n",
      "\n",
      "    intersect, setdiff, setequal, union\n",
      "\n"
     ]
    }
   ],
   "source": [
    "library(\"dplyr\")"
   ]
  },
  {
   "cell_type": "code",
   "execution_count": 5,
   "id": "collected-winter",
   "metadata": {},
   "outputs": [
    {
     "name": "stdout",
     "output_type": "stream",
     "text": [
      "package 'readxl' successfully unpacked and MD5 sums checked\n",
      "\n",
      "The downloaded binary packages are in\n",
      "\tC:\\Users\\lee\\AppData\\Local\\Temp\\Rtmp2TrNpn\\downloaded_packages\n"
     ]
    }
   ],
   "source": [
    "install.packages(\"readxl\")"
   ]
  },
  {
   "cell_type": "code",
   "execution_count": 6,
   "id": "capital-composition",
   "metadata": {},
   "outputs": [
    {
     "name": "stderr",
     "output_type": "stream",
     "text": [
      "Warning message:\n",
      "\"package 'readxl' was built under R version 3.6.3\""
     ]
    }
   ],
   "source": [
    "library(readxl)"
   ]
  },
  {
   "cell_type": "code",
   "execution_count": 10,
   "id": "compressed-harrison",
   "metadata": {},
   "outputs": [],
   "source": [
    "customer_r <- read_xlsx(\"customer_r.xlsx\")"
   ]
  },
  {
   "cell_type": "code",
   "execution_count": 11,
   "id": "attended-double",
   "metadata": {},
   "outputs": [
    {
     "data": {
      "text/html": [
       "<table>\n",
       "<thead><tr><th scope=col>n</th></tr></thead>\n",
       "<tbody>\n",
       "\t<tr><td>183</td></tr>\n",
       "</tbody>\n",
       "</table>\n"
      ],
      "text/latex": [
       "\\begin{tabular}{r|l}\n",
       " n\\\\\n",
       "\\hline\n",
       "\t 183\\\\\n",
       "\\end{tabular}\n"
      ],
      "text/markdown": [
       "\n",
       "| n |\n",
       "|---|\n",
       "| 183 |\n",
       "\n"
      ],
      "text/plain": [
       "  n  \n",
       "1 183"
      ]
     },
     "metadata": {},
     "output_type": "display_data"
    }
   ],
   "source": [
    "customer_r %>% count()"
   ]
  },
  {
   "cell_type": "code",
   "execution_count": 14,
   "id": "unknown-pulse",
   "metadata": {},
   "outputs": [],
   "source": [
    "order_info_r <- read_xlsx(\"order_info_r.xlsx\")"
   ]
  },
  {
   "cell_type": "code",
   "execution_count": 15,
   "id": "obvious-competition",
   "metadata": {},
   "outputs": [
    {
     "data": {
      "text/html": [
       "<ol class=list-inline>\n",
       "\t<li>391</li>\n",
       "\t<li>5</li>\n",
       "</ol>\n"
      ],
      "text/latex": [
       "\\begin{enumerate*}\n",
       "\\item 391\n",
       "\\item 5\n",
       "\\end{enumerate*}\n"
      ],
      "text/markdown": [
       "1. 391\n",
       "2. 5\n",
       "\n",
       "\n"
      ],
      "text/plain": [
       "[1] 391   5"
      ]
     },
     "metadata": {},
     "output_type": "display_data"
    }
   ],
   "source": [
    "dim(order_info_r)"
   ]
  },
  {
   "cell_type": "code",
   "execution_count": 16,
   "id": "outside-expert",
   "metadata": {},
   "outputs": [
    {
     "ename": "ERROR",
     "evalue": "Error in mean(SALSE): 객체 'SALSE'를 찾을 수 없습니다\n",
     "output_type": "error",
     "traceback": [
      "Error in mean(SALSE): 객체 'SALSE'를 찾을 수 없습니다\nTraceback:\n",
      "1. summarise(order_info_r.avg = mean(SALSE))",
      "2. mean(SALSE)"
     ]
    }
   ],
   "source": [
    "summarise(order_info_r.avg = mean(SALSE))"
   ]
  },
  {
   "cell_type": "code",
   "execution_count": 18,
   "id": "early-breach",
   "metadata": {},
   "outputs": [
    {
     "data": {
      "text/html": [
       "<table>\n",
       "<thead><tr><th scope=col>min_value</th><th scope=col>max_value</th></tr></thead>\n",
       "<tbody>\n",
       "\t<tr><td>6000  </td><td>552000</td></tr>\n",
       "</tbody>\n",
       "</table>\n"
      ],
      "text/latex": [
       "\\begin{tabular}{r|ll}\n",
       " min\\_value & max\\_value\\\\\n",
       "\\hline\n",
       "\t 6000   & 552000\\\\\n",
       "\\end{tabular}\n"
      ],
      "text/markdown": [
       "\n",
       "| min_value | max_value |\n",
       "|---|---|\n",
       "| 6000   | 552000 |\n",
       "\n"
      ],
      "text/plain": [
       "  min_value max_value\n",
       "1 6000      552000   "
      ]
     },
     "metadata": {},
     "output_type": "display_data"
    }
   ],
   "source": [
    "order_info_r %>% summarise(min_value = min(SALES), max_value = max(SALES))\n"
   ]
  },
  {
   "cell_type": "code",
   "execution_count": 20,
   "id": "applicable-backing",
   "metadata": {},
   "outputs": [],
   "source": [
    "reservation_r <- read_xlsx(\"reservation_r.xlsx\")"
   ]
  },
  {
   "cell_type": "code",
   "execution_count": 21,
   "id": "matched-stanford",
   "metadata": {},
   "outputs": [
    {
     "data": {
      "text/html": [
       "<table>\n",
       "<thead><tr><th scope=col>RESERV_NO</th><th scope=col>RESERV_DATE</th><th scope=col>RESERV_TIME</th><th scope=col>CUSTOMER_ID</th><th scope=col>BRANCH</th><th scope=col>VISITOR_CNT</th><th scope=col>CANCEL</th></tr></thead>\n",
       "<tbody>\n",
       "\t<tr><td>2019082701</td><td>20190827  </td><td>1800      </td><td>W1340914  </td><td>마포      </td><td>2         </td><td>N         </td></tr>\n",
       "\t<tr><td>2019082602</td><td>20190826  </td><td>1200      </td><td>W341658   </td><td>동작      </td><td>5         </td><td>N         </td></tr>\n",
       "\t<tr><td>2019082601</td><td>20190826  </td><td>1800      </td><td>W1328993  </td><td>강북      </td><td>4         </td><td>N         </td></tr>\n",
       "\t<tr><td>2019082501</td><td>20190825  </td><td>1800      </td><td>W1340463  </td><td>용산      </td><td>2         </td><td>N         </td></tr>\n",
       "\t<tr><td>2019082401</td><td>20190824  </td><td>1200      </td><td>W1344912  </td><td>강동      </td><td>3         </td><td>N         </td></tr>\n",
       "\t<tr><td>2019082301</td><td>20190823  </td><td>1800      </td><td>W1344753  </td><td>영등포    </td><td>2         </td><td>N         </td></tr>\n",
       "</tbody>\n",
       "</table>\n"
      ],
      "text/latex": [
       "\\begin{tabular}{r|lllllll}\n",
       " RESERV\\_NO & RESERV\\_DATE & RESERV\\_TIME & CUSTOMER\\_ID & BRANCH & VISITOR\\_CNT & CANCEL\\\\\n",
       "\\hline\n",
       "\t 2019082701 & 20190827   & 1800       & W1340914   & 마포       & 2          & N         \\\\\n",
       "\t 2019082602 & 20190826   & 1200       & W341658    & 동작       & 5          & N         \\\\\n",
       "\t 2019082601 & 20190826   & 1800       & W1328993   & 강북       & 4          & N         \\\\\n",
       "\t 2019082501 & 20190825   & 1800       & W1340463   & 용산       & 2          & N         \\\\\n",
       "\t 2019082401 & 20190824   & 1200       & W1344912   & 강동       & 3          & N         \\\\\n",
       "\t 2019082301 & 20190823   & 1800       & W1344753   & 영등포     & 2          & N         \\\\\n",
       "\\end{tabular}\n"
      ],
      "text/markdown": [
       "\n",
       "| RESERV_NO | RESERV_DATE | RESERV_TIME | CUSTOMER_ID | BRANCH | VISITOR_CNT | CANCEL |\n",
       "|---|---|---|---|---|---|---|\n",
       "| 2019082701 | 20190827   | 1800       | W1340914   | 마포       | 2          | N          |\n",
       "| 2019082602 | 20190826   | 1200       | W341658    | 동작       | 5          | N          |\n",
       "| 2019082601 | 20190826   | 1800       | W1328993   | 강북       | 4          | N          |\n",
       "| 2019082501 | 20190825   | 1800       | W1340463   | 용산       | 2          | N          |\n",
       "| 2019082401 | 20190824   | 1200       | W1344912   | 강동       | 3          | N          |\n",
       "| 2019082301 | 20190823   | 1800       | W1344753   | 영등포     | 2          | N          |\n",
       "\n"
      ],
      "text/plain": [
       "  RESERV_NO  RESERV_DATE RESERV_TIME CUSTOMER_ID BRANCH VISITOR_CNT CANCEL\n",
       "1 2019082701 20190827    1800        W1340914    마포   2           N     \n",
       "2 2019082602 20190826    1200        W341658     동작   5           N     \n",
       "3 2019082601 20190826    1800        W1328993    강북   4           N     \n",
       "4 2019082501 20190825    1800        W1340463    용산   2           N     \n",
       "5 2019082401 20190824    1200        W1344912    강동   3           N     \n",
       "6 2019082301 20190823    1800        W1344753    영등포 2           N     "
      ]
     },
     "metadata": {},
     "output_type": "display_data"
    }
   ],
   "source": [
    "head(reservation_r)"
   ]
  },
  {
   "cell_type": "code",
   "execution_count": 28,
   "id": "portuguese-metallic",
   "metadata": {},
   "outputs": [
    {
     "data": {
      "text/html": [
       "<table>\n",
       "<thead><tr><th scope=col>Sepal.Length</th><th scope=col>Sepal.Width</th><th scope=col>Petal.Length</th><th scope=col>Petal.Width</th><th scope=col>Species</th></tr></thead>\n",
       "<tbody>\n",
       "\t<tr><td>5.1   </td><td>3.5   </td><td>1.4   </td><td>0.2   </td><td>setosa</td></tr>\n",
       "\t<tr><td>4.9   </td><td>3.0   </td><td>1.4   </td><td>0.2   </td><td>setosa</td></tr>\n",
       "\t<tr><td>4.7   </td><td>3.2   </td><td>1.3   </td><td>0.2   </td><td>setosa</td></tr>\n",
       "\t<tr><td>4.6   </td><td>3.1   </td><td>1.5   </td><td>0.2   </td><td>setosa</td></tr>\n",
       "\t<tr><td>5.0   </td><td>3.6   </td><td>1.4   </td><td>0.2   </td><td>setosa</td></tr>\n",
       "\t<tr><td>5.4   </td><td>3.9   </td><td>1.7   </td><td>0.4   </td><td>setosa</td></tr>\n",
       "</tbody>\n",
       "</table>\n"
      ],
      "text/latex": [
       "\\begin{tabular}{r|lllll}\n",
       " Sepal.Length & Sepal.Width & Petal.Length & Petal.Width & Species\\\\\n",
       "\\hline\n",
       "\t 5.1    & 3.5    & 1.4    & 0.2    & setosa\\\\\n",
       "\t 4.9    & 3.0    & 1.4    & 0.2    & setosa\\\\\n",
       "\t 4.7    & 3.2    & 1.3    & 0.2    & setosa\\\\\n",
       "\t 4.6    & 3.1    & 1.5    & 0.2    & setosa\\\\\n",
       "\t 5.0    & 3.6    & 1.4    & 0.2    & setosa\\\\\n",
       "\t 5.4    & 3.9    & 1.7    & 0.4    & setosa\\\\\n",
       "\\end{tabular}\n"
      ],
      "text/markdown": [
       "\n",
       "| Sepal.Length | Sepal.Width | Petal.Length | Petal.Width | Species |\n",
       "|---|---|---|---|---|\n",
       "| 5.1    | 3.5    | 1.4    | 0.2    | setosa |\n",
       "| 4.9    | 3.0    | 1.4    | 0.2    | setosa |\n",
       "| 4.7    | 3.2    | 1.3    | 0.2    | setosa |\n",
       "| 4.6    | 3.1    | 1.5    | 0.2    | setosa |\n",
       "| 5.0    | 3.6    | 1.4    | 0.2    | setosa |\n",
       "| 5.4    | 3.9    | 1.7    | 0.4    | setosa |\n",
       "\n"
      ],
      "text/plain": [
       "  Sepal.Length Sepal.Width Petal.Length Petal.Width Species\n",
       "1 5.1          3.5         1.4          0.2         setosa \n",
       "2 4.9          3.0         1.4          0.2         setosa \n",
       "3 4.7          3.2         1.3          0.2         setosa \n",
       "4 4.6          3.1         1.5          0.2         setosa \n",
       "5 5.0          3.6         1.4          0.2         setosa \n",
       "6 5.4          3.9         1.7          0.4         setosa "
      ]
     },
     "metadata": {},
     "output_type": "display_data"
    }
   ],
   "source": [
    "head(iris)"
   ]
  },
  {
   "cell_type": "code",
   "execution_count": 29,
   "id": "cardiovascular-addition",
   "metadata": {},
   "outputs": [
    {
     "ename": "ERROR",
     "evalue": "Error in cbind(iris.iris): 객체 'iris.iris'를 찾을 수 없습니다\n",
     "output_type": "error",
     "traceback": [
      "Error in cbind(iris.iris): 객체 'iris.iris'를 찾을 수 없습니다\nTraceback:\n",
      "1. cbind(iris.iris)"
     ]
    }
   ],
   "source": [
    "iris3 = cbind(iris.iris)"
   ]
  },
  {
   "cell_type": "code",
   "execution_count": 30,
   "id": "urban-island",
   "metadata": {},
   "outputs": [
    {
     "data": {
      "text/html": [
       "<ol class=list-inline>\n",
       "\t<li>5.1</li>\n",
       "\t<li>4.9</li>\n",
       "\t<li>4.7</li>\n",
       "\t<li>4.6</li>\n",
       "\t<li>5</li>\n",
       "\t<li>5.4</li>\n",
       "</ol>\n"
      ],
      "text/latex": [
       "\\begin{enumerate*}\n",
       "\\item 5.1\n",
       "\\item 4.9\n",
       "\\item 4.7\n",
       "\\item 4.6\n",
       "\\item 5\n",
       "\\item 5.4\n",
       "\\end{enumerate*}\n"
      ],
      "text/markdown": [
       "1. 5.1\n",
       "2. 4.9\n",
       "3. 4.7\n",
       "4. 4.6\n",
       "5. 5\n",
       "6. 5.4\n",
       "\n",
       "\n"
      ],
      "text/plain": [
       "[1] 5.1 4.9 4.7 4.6 5.0 5.4"
      ]
     },
     "metadata": {},
     "output_type": "display_data"
    }
   ],
   "source": [
    "head(iris3)"
   ]
  },
  {
   "cell_type": "code",
   "execution_count": null,
   "id": "pharmaceutical-understanding",
   "metadata": {},
   "outputs": [],
   "source": []
  }
 ],
 "metadata": {
  "kernelspec": {
   "display_name": "R",
   "language": "R",
   "name": "ir"
  },
  "language_info": {
   "codemirror_mode": "r",
   "file_extension": ".r",
   "mimetype": "text/x-r-source",
   "name": "R",
   "pygments_lexer": "r",
   "version": "3.6.1"
  }
 },
 "nbformat": 4,
 "nbformat_minor": 5
}
