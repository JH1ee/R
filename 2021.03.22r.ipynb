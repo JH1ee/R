{
 "cells": [
  {
   "cell_type": "code",
   "execution_count": 2,
   "id": "computational-laptop",
   "metadata": {},
   "outputs": [],
   "source": [
    "library(readxl)\n"
   ]
  },
  {
   "cell_type": "code",
   "execution_count": 3,
   "id": "strong-entrepreneur",
   "metadata": {},
   "outputs": [],
   "source": [
    "library(dplyr)\n",
    "\n"
   ]
  },
  {
   "cell_type": "code",
   "execution_count": 4,
   "id": "sharing-police",
   "metadata": {},
   "outputs": [],
   "source": [
    "customer_r <- read_excel(\"customer_r.xlsx\")\n",
    "reservation_r <- read_excel(\"reservation_r.xlsx\")\n",
    "order_info_r <- read_excel(\"order_info_r.xlsx\")\n",
    "item_r <- read_excel(\"item_r.xlsx\")\n",
    "colnames(customer_r) <- tolower(colnames(customer_r))\n",
    "colnames(reservation_r) <- tolower(colnames(reservation_r))\n",
    "colnames(order_info_r) <- tolower(colnames(order_info_r))\n",
    "colnames(item_r) <- tolower(colnames(item_r))"
   ]
  },
  {
   "cell_type": "code",
   "execution_count": 5,
   "id": "flexible-printing",
   "metadata": {},
   "outputs": [
    {
     "name": "stderr",
     "output_type": "stream",
     "text": [
      "`summarise()` has grouped output by 'item_id'. You can override using the `.groups` argument.\n"
     ]
    }
   ],
   "source": [
    "my_first_cook <- order_info_r %>%\n",
    "                 mutate(reserv_month = substr(reserv_no,1,6)) %>%\n",
    "                 group_by(item_id, reserv_month) %>%\n",
    "                 summarise(avg_sales = mean(sales)) %>%\n",
    "                 arrange(item_id, reserv_month)"
   ]
  },
  {
   "cell_type": "code",
   "execution_count": null,
   "id": "alpine-alabama",
   "metadata": {},
   "outputs": [],
   "source": []
  }
 ],
 "metadata": {
  "kernelspec": {
   "display_name": "R",
   "language": "R",
   "name": "ir"
  },
  "language_info": {
   "codemirror_mode": "r",
   "file_extension": ".r",
   "mimetype": "text/x-r-source",
   "name": "R",
   "pygments_lexer": "r",
   "version": "3.6.1"
  }
 },
 "nbformat": 4,
 "nbformat_minor": 5
}
